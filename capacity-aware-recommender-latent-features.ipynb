{
 "cells": [
  {
   "cell_type": "code",
   "execution_count": 1,
   "id": "9710a783",
   "metadata": {},
   "outputs": [],
   "source": [
    "import numpy as np\n",
    "from cvxopt import matrix, solvers, log, exp\n",
    "import matplotlib.pyplot as plt"
   ]
  },
  {
   "cell_type": "code",
   "execution_count": 2,
   "id": "2c4b9f61",
   "metadata": {},
   "outputs": [
    {
     "data": {
      "image/png": "[encoded data removed]",
      "text/plain": [
       "<Figure size 432x288 with 1 Axes>"
      ]
     },
     "metadata": {
      "needs_background": "light"
     },
     "output_type": "display_data"
    }
   ],
   "source": [
    "N = 40\n",
    "T = 10\n",
    "\n",
    "rank = 5\n",
    "\n",
    "U_true = np.random.randn(N, rank)\n",
    "V_true = np.random.randn(T, rank)\n",
    "\n",
    "R_true = U_true @ V_true.T + 0.01 * np.random.randn(N, T)\n",
    "\n",
    "plt.hist(R_true.flatten())\n",
    "\n",
    "C = 4 * np.ones(T)"
   ]
  },
  {
   "cell_type": "code",
   "execution_count": 3,
   "id": "9284d7d5",
   "metadata": {},
   "outputs": [],
   "source": [
    "def solving_system(R, C, reg=1e-5):\n",
    "    N, T = R.shape\n",
    "    A1 = np.zeros((N, N * T))\n",
    "    for i in range(N):\n",
    "        A1[i, i * T:(i + 1) * T] = np.ones((T))\n",
    "\n",
    "    A2 = np.zeros((T, N * T))\n",
    "    for i in range(T):\n",
    "        A2[i, i:N * T:T] = np.ones((N))\n",
    "      \n",
    "    A = np.concatenate((A1, A2, -1 * np.identity(N * T)))\n",
    "    \n",
    "    c = -1 * R.reshape((N * T, 1))\n",
    "\n",
    "    b = np.concatenate((np.ones(N), C, np.zeros(N * T)))\n",
    "      \n",
    "    P = reg * np.identity(N * T)\n",
    "    solvers.options['show_progress'] = False\n",
    "    sol = solvers.qp(matrix(P, tc='d'), matrix(c, tc='d'), matrix(A, tc='d'), matrix(b, tc='d'))\n",
    "    x_sys = np.array(sol['x']).reshape((N, T))\n",
    "    q_sys = np.array(sol['z'])\n",
    "    return x_sys, q_sys"
   ]
  },
  {
   "cell_type": "code",
   "execution_count": 4,
   "id": "cf486739",
   "metadata": {},
   "outputs": [],
   "source": [
    "x, q = solving_system(R_true, C)"
   ]
  },
  {
   "cell_type": "code",
   "execution_count": 5,
   "id": "038335e5",
   "metadata": {},
   "outputs": [
    {
     "name": "stdout",
     "output_type": "stream",
     "text": [
      "4\n",
      "114.79931549780981\n"
     ]
    },
    {
     "data": {
      "image/png": "[encoded data removed]",
      "text/plain": [
       "<Figure size 432x288 with 1 Axes>"
      ]
     },
     "metadata": {
      "needs_background": "light"
     },
     "output_type": "display_data"
    }
   ],
   "source": [
    "x = np.int32(x > 0.5)\n",
    "plt.imshow(x)\n",
    "print(np.max(np.sum(x, axis=0)))\n",
    "print(np.sum(x * R_true))"
   ]
  },
  {
   "cell_type": "code",
   "execution_count": 6,
   "id": "e9abe7d3",
   "metadata": {},
   "outputs": [
    {
     "name": "stdout",
     "output_type": "stream",
     "text": [
      "10.0\n",
      "130.7094987989396\n"
     ]
    },
    {
     "data": {
      "image/png": "[encoded data removed]",
      "text/plain": [
       "<Figure size 432x288 with 1 Axes>"
      ]
     },
     "metadata": {
      "needs_background": "light"
     },
     "output_type": "display_data"
    }
   ],
   "source": [
    "max_ind = np.argmax(R_true, axis=1)\n",
    "x_without_C = np.zeros((N, T))\n",
    "x_without_C[np.arange(N), max_ind] = 1\n",
    "plt.imshow(x_without_C)\n",
    "print(np.max(np.sum(x_without_C, axis=0)))\n",
    "print(np.sum(x_without_C * R_true))"
   ]
  },
  {
   "cell_type": "code",
   "execution_count": 7,
   "id": "40a78a4c",
   "metadata": {},
   "outputs": [],
   "source": [
    "sigma = 1\n",
    "sigma_u = 1\n",
    "sigma_v = 1\n",
    "k = 5\n",
    "\n",
    "def update_UV(observations, U, V, Sigma_U, Sigma_V):\n",
    "\n",
    "    iter = 0\n",
    "    \n",
    "    while True:\n",
    "        U_prev = U.copy()\n",
    "        for i in range(N):\n",
    "            Sigma_sum = 0\n",
    "            mean_sum = 0\n",
    "            for obs in observations:\n",
    "                if obs[0] == i:\n",
    "                    Sigma_sum += Sigma_V[obs[1]] + np.outer(V[obs[1]], V[obs[1]])\n",
    "                    mean_sum += obs[2] * V[obs[1]]\n",
    "            Sigma_U[i] = np.linalg.inv(1/sigma**2 * Sigma_sum + 1/sigma_u**2 * np.identity(k))\n",
    "            U[i] = Sigma_U[i] @ mean_sum / sigma**2\n",
    "\n",
    "        for j in range(T):\n",
    "            Sigma_sum = 0\n",
    "            mean_sum = 0\n",
    "            for obs in observations:\n",
    "                if obs[1] == j:\n",
    "                    Sigma_sum += Sigma_U[obs[0]] + np.outer(U[obs[0]], U[obs[0]])\n",
    "                    mean_sum += obs[2] * U[obs[0]]\n",
    "            Sigma_V[j] = np.linalg.inv(1/sigma**2 * Sigma_sum + 1/sigma_v**2 * np.identity(k))\n",
    "            V[j] = Sigma_V[j] @ mean_sum / sigma**2\n",
    "        \n",
    "        iter += 1\n",
    "        if np.linalg.norm(U - U_prev) < 1e-2 or iter > 100:\n",
    "            break\n",
    "    \n",
    "    return U, V, Sigma_U, Sigma_V"
   ]
  },
  {
   "cell_type": "code",
   "execution_count": 14,
   "id": "9d04fd61",
   "metadata": {},
   "outputs": [],
   "source": [
    "is_mask_feasible = False\n",
    "while not is_mask_feasible:\n",
    "    initial_mask = np.zeros((N, T))\n",
    "    for i in range(N):\n",
    "        j = np.random.choice(T)\n",
    "        initial_mask[i, j] = 1\n",
    "\n",
    "    if np.min(np.sum(initial_mask, axis=0)) > 0:\n",
    "        is_mask_feasible = True\n",
    "        \n",
    "observations = []\n",
    "for i in range(N):\n",
    "    for j in range(T):\n",
    "        if initial_mask[i, j] == 1:\n",
    "            observations.append((i, j, R_true[i, j] + np.random.randn()))"
   ]
  },
  {
   "cell_type": "code",
   "execution_count": 15,
   "id": "cf7f01e8",
   "metadata": {},
   "outputs": [],
   "source": [
    "Sigma_U = np.stack([np.identity(k) for _ in range(N)], axis=0)\n",
    "Sigma_V = np.stack([np.identity(k) for _ in range(T)], axis=0)\n",
    "U = np.random.randn(N, k)\n",
    "V = np.random.randn(T, k)"
   ]
  },
  {
   "cell_type": "code",
   "execution_count": 16,
   "id": "5124c485",
   "metadata": {},
   "outputs": [
    {
     "name": "stdout",
     "output_type": "stream",
     "text": [
      "4\n",
      "[4 4 4 4 4 4 4 4 4 4]\n",
      "26.03766233625797\n",
      "4\n",
      "[4 4 4 4 4 4 4 4 4 4]\n",
      "19.99882256812686\n",
      "4\n",
      "[4 4 4 4 4 4 4 4 4 4]\n",
      "67.75842883884357\n",
      "4\n",
      "[4 4 4 4 4 4 4 4 4 4]\n",
      "65.25170767904953\n",
      "4\n",
      "[4 4 4 4 4 4 4 4 4 4]\n",
      "74.98568410766342\n",
      "4\n",
      "[4 4 4 4 4 4 4 4 4 4]\n",
      "97.74073778559003\n",
      "4\n",
      "[4 4 4 4 4 4 4 4 4 4]\n",
      "98.47519762380736\n",
      "4\n",
      "[4 4 4 4 4 4 4 4 4 4]\n",
      "108.65769449350394\n",
      "4\n",
      "[4 4 4 4 4 4 4 4 4 4]\n",
      "107.9126220334914\n",
      "4\n",
      "[4 4 4 4 4 4 4 4 4 4]\n",
      "109.76057925368666\n",
      "4\n",
      "[4 4 4 4 4 4 4 4 4 4]\n",
      "106.85472023266612\n",
      "4\n",
      "[4 4 4 4 4 4 4 4 4 4]\n",
      "102.08445615475506\n",
      "4\n",
      "[4 4 4 4 4 4 4 4 4 4]\n",
      "100.52127889479095\n",
      "4\n",
      "[4 4 4 4 4 4 4 4 4 4]\n",
      "104.79595023414673\n",
      "4\n",
      "[4 4 4 4 4 4 4 4 4 4]\n",
      "107.57391110697593\n",
      "4\n",
      "[4 4 4 4 4 4 4 4 4 4]\n",
      "109.82080909059573\n",
      "4\n",
      "[4 4 4 4 4 4 4 4 4 4]\n",
      "107.17785411782432\n",
      "4\n",
      "[4 4 4 4 4 4 4 4 4 4]\n",
      "110.73254747767291\n",
      "4\n",
      "[4 4 4 4 4 4 4 4 4 4]\n",
      "107.50056190604366\n",
      "4\n",
      "[4 4 4 4 4 4 4 4 4 4]\n",
      "111.35760038569605\n",
      "4\n",
      "[4 4 4 4 4 4 4 4 4 4]\n",
      "110.67435309139265\n",
      "4\n",
      "[4 4 4 4 4 4 4 4 4 4]\n",
      "110.70621051160761\n",
      "4\n",
      "[4 4 4 4 4 4 4 4 4 4]\n",
      "111.93358094802353\n",
      "4\n",
      "[4 4 4 4 4 4 4 4 4 4]\n",
      "112.25778503413775\n",
      "4\n",
      "[4 4 4 4 4 4 4 4 4 4]\n",
      "110.47616158005468\n",
      "4\n",
      "[4 4 4 4 4 4 4 4 4 4]\n",
      "111.10493026899329\n",
      "4\n",
      "[4 4 4 4 4 4 4 4 4 4]\n",
      "111.38639606727153\n",
      "4\n",
      "[4 4 4 4 4 4 4 4 4 4]\n",
      "113.01793213187233\n",
      "4\n",
      "[4 4 4 4 4 4 4 4 4 4]\n",
      "112.68642113035776\n",
      "4\n",
      "[4 4 4 4 4 4 4 4 4 4]\n",
      "109.91353307917291\n",
      "4\n",
      "[4 4 4 4 4 4 3 4 4 4]\n",
      "111.86585911279984\n",
      "4\n",
      "[4 4 4 4 4 4 3 4 4 4]\n",
      "112.28818966072838\n",
      "4\n",
      "[4 4 4 4 4 4 3 4 4 4]\n",
      "112.37286543057411\n",
      "4\n",
      "[4 4 4 4 4 4 3 4 4 4]\n",
      "113.17190311969784\n",
      "4\n",
      "[4 4 4 4 4 4 3 4 4 4]\n",
      "109.01246215146688\n",
      "4\n",
      "[4 4 4 4 4 4 3 4 4 4]\n",
      "111.53299129353924\n",
      "4\n",
      "[4 4 4 4 4 4 3 4 4 4]\n",
      "112.56299204300784\n",
      "4\n",
      "[4 4 4 4 4 4 4 4 4 4]\n",
      "112.5745006728763\n",
      "4\n",
      "[4 4 4 4 4 4 3 4 4 4]\n",
      "111.85611275854436\n",
      "4\n",
      "[4 4 4 4 4 4 3 4 4 4]\n",
      "113.1415333440159\n",
      "4\n",
      "[4 4 4 4 4 4 4 4 4 4]\n",
      "112.07097843576818\n",
      "4\n",
      "[4 4 4 4 4 4 3 4 4 4]\n",
      "112.64526922287537\n",
      "4\n",
      "[4 4 4 4 4 4 3 4 4 4]\n",
      "112.84721981342109\n",
      "4\n",
      "[4 4 4 4 4 4 4 4 4 4]\n",
      "110.7249075248919\n",
      "4\n",
      "[4 4 4 4 4 4 3 4 4 4]\n",
      "111.17516833230638\n",
      "4\n",
      "[4 4 4 4 4 4 3 4 4 4]\n",
      "113.27617886595246\n",
      "4\n",
      "[4 4 4 4 4 4 4 4 4 3]\n",
      "112.70811791832847\n",
      "4\n",
      "[4 4 4 4 4 4 4 4 4 3]\n",
      "112.98435769031232\n",
      "4\n",
      "[4 4 4 4 4 4 4 4 4 3]\n",
      "113.5145340905093\n",
      "4\n",
      "[3 4 4 4 4 4 4 4 4 4]\n",
      "111.78625286246712\n",
      "4\n",
      "[3 4 4 4 4 4 4 4 4 4]\n",
      "113.15262275569029\n",
      "4\n",
      "[3 4 4 4 4 4 4 4 4 4]\n",
      "112.83316349078187\n",
      "4\n",
      "[3 4 4 4 4 4 4 4 4 4]\n",
      "113.15290014666635\n",
      "4\n",
      "[3 4 4 4 4 4 4 4 4 4]\n",
      "111.66161438463045\n",
      "4\n",
      "[3 4 4 4 4 4 4 4 4 4]\n",
      "112.96505378573076\n",
      "4\n",
      "[3 4 4 4 4 4 4 4 4 4]\n",
      "112.87311986574156\n",
      "4\n",
      "[3 4 4 4 4 4 4 4 4 4]\n",
      "111.31112886518497\n",
      "4\n",
      "[3 4 4 4 4 4 4 4 4 4]\n",
      "113.7297594306772\n",
      "4\n",
      "[3 4 4 4 4 4 4 4 4 4]\n",
      "113.06486650737523\n",
      "4\n",
      "[3 4 4 4 4 4 4 4 4 4]\n",
      "112.54937949752357\n",
      "4\n",
      "[3 4 4 4 4 4 4 4 4 4]\n",
      "113.7297594306772\n",
      "4\n",
      "[3 4 4 4 4 4 4 4 4 4]\n",
      "113.09969930766732\n",
      "4\n",
      "[4 4 4 4 4 4 4 4 4 3]\n",
      "113.5145340905093\n",
      "4\n",
      "[3 4 4 4 4 4 4 4 4 4]\n",
      "113.7297594306772\n",
      "4\n",
      "[3 4 4 4 4 4 4 4 4 4]\n",
      "112.32124409180919\n",
      "4\n",
      "[3 4 4 4 4 4 4 4 4 4]\n",
      "113.7297594306772\n",
      "4\n",
      "[4 4 4 4 4 4 4 4 4 3]\n",
      "112.70811791832847\n",
      "4\n",
      "[3 4 4 4 4 4 4 4 4 4]\n",
      "113.46705066759301\n",
      "4\n",
      "[3 4 4 4 4 4 4 4 4 4]\n",
      "110.80677890272318\n",
      "4\n",
      "[4 4 4 4 4 4 4 4 4 3]\n",
      "113.69754451325693\n",
      "4\n",
      "[3 4 4 4 4 4 4 4 4 4]\n",
      "112.11987505971352\n",
      "4\n",
      "[3 4 4 4 4 4 4 4 4 4]\n",
      "112.73582072166982\n",
      "4\n",
      "[3 4 4 4 4 4 4 4 4 4]\n",
      "112.80215774429104\n",
      "4\n",
      "[4 4 4 4 4 4 4 4 4 3]\n",
      "112.58612611650985\n",
      "4\n",
      "[3 4 4 4 4 4 4 4 4 4]\n",
      "113.15262275569029\n",
      "4\n",
      "[3 4 4 4 4 4 4 4 4 4]\n",
      "113.23083940584637\n",
      "4\n",
      "[4 4 4 4 4 4 4 4 4 3]\n",
      "113.5145340905093\n",
      "4\n",
      "[4 4 4 4 4 4 4 4 4 3]\n",
      "112.01542404963448\n",
      "4\n",
      "[4 4 4 4 4 4 4 4 4 3]\n",
      "111.7685313926421\n",
      "4\n",
      "[3 4 4 4 4 4 4 4 4 4]\n",
      "112.96505378573076\n",
      "4\n",
      "[3 4 4 4 4 4 4 4 4 4]\n",
      "113.7297594306772\n",
      "4\n",
      "[4 4 4 4 4 4 4 4 4 3]\n",
      "113.69754451325693\n",
      "4\n",
      "[4 4 4 4 4 4 4 4 4 3]\n",
      "112.10940593134572\n",
      "4\n",
      "[3 4 4 4 4 4 4 4 4 4]\n",
      "112.9715730576012\n",
      "4\n",
      "[4 4 4 4 4 4 4 4 4 3]\n",
      "112.68287803565215\n",
      "4\n",
      "[3 4 4 4 4 4 4 4 4 4]\n",
      "113.7297594306772\n",
      "4\n",
      "[4 4 4 4 4 4 4 4 4 3]\n",
      "112.88745150123347\n",
      "4\n",
      "[3 4 4 4 4 4 4 4 4 3]\n",
      "113.83787337579398\n",
      "4\n",
      "[3 4 4 4 4 4 4 4 4 4]\n",
      "113.7297594306772\n",
      "4\n",
      "[3 4 4 4 4 4 4 4 4 4]\n",
      "113.7297594306772\n",
      "4\n",
      "[4 4 4 4 4 4 4 4 4 2]\n",
      "112.06271371843292\n",
      "4\n",
      "[3 4 4 4 4 4 4 4 4 4]\n",
      "112.28021828819752\n",
      "4\n",
      "[3 4 4 4 4 4 4 4 4 3]\n",
      "113.83787337579398\n",
      "4\n",
      "[4 4 4 4 4 4 4 4 4 3]\n",
      "113.5145340905093\n",
      "4\n",
      "[2 4 4 4 4 4 4 4 4 4]\n",
      "113.50540688980168\n",
      "4\n",
      "[3 4 4 4 4 4 4 4 4 3]\n",
      "113.13744653757234\n",
      "4\n",
      "[3 4 4 4 4 4 4 4 4 4]\n",
      "113.7297594306772\n",
      "4\n",
      "[3 4 4 4 4 4 4 4 4 3]\n",
      "113.83787337579398\n",
      "4\n",
      "[4 4 4 4 4 4 4 4 4 3]\n",
      "113.5145340905093\n",
      "4\n",
      "[2 4 4 4 4 4 4 4 4 4]\n",
      "113.87008829321425\n"
     ]
    }
   ],
   "source": [
    "horizon = 100\n",
    "\n",
    "history = np.zeros(horizon)\n",
    "\n",
    "for t in range(horizon):\n",
    "\n",
    "    U, V, Sigma_U, Sigma_V = update_UV(observations, U, V, Sigma_U, Sigma_V)\n",
    "    R_UCB = np.zeros((N,T))\n",
    "\n",
    "    for i in range(N):\n",
    "        for j in range(T):\n",
    "            R_UCB[i,j] = U[i] @ V[j] + 2 * np.sqrt(np.trace(Sigma_U[i].T @ Sigma_V[j] + Sigma_U[i].T @ np.outer(V[j], V[j]) + np.outer(U[i], U[i]) @ Sigma_V[j]))\n",
    "\n",
    "    x_UCB, _ = solving_system(R_UCB, C)\n",
    "    x_UCB = np.int32(x_UCB > 0.5)\n",
    "\n",
    "#     plt.imshow(x_UCB)\n",
    "#     plt.show()\n",
    "    print(np.max(np.sum(x_UCB, axis=0)))\n",
    "    print(np.sum(x_UCB, axis=0))\n",
    "    print(np.sum(x_UCB * R_true))\n",
    "    \n",
    "    history[t] = np.sum(x_UCB * R_true)\n",
    "\n",
    "    for i in range(N):\n",
    "        for j in range(T):\n",
    "            if x_UCB[i, j] == 1:\n",
    "                observations.append((i, j, R_true[i, j]))"
   ]
  },
  {
   "cell_type": "code",
   "execution_count": 17,
   "id": "d4fbb671",
   "metadata": {},
   "outputs": [
    {
     "data": {
      "text/plain": [
       "<matplotlib.collections.LineCollection at 0x7f7864467640>"
      ]
     },
     "execution_count": 17,
     "metadata": {},
     "output_type": "execute_result"
    },
    {
     "data": {
      "image/png": "[encoded data removed]",
      "text/plain": [
       "<Figure size 432x288 with 1 Axes>"
      ]
     },
     "metadata": {
      "needs_background": "light"
     },
     "output_type": "display_data"
    }
   ],
   "source": [
    "plt.plot(history)\n",
    "plt.hlines(np.sum(x * R_true), 0, horizon, linestyles='dashed')"
   ]
  },
  {
   "cell_type": "code",
   "execution_count": 18,
   "id": "68db5ba1",
   "metadata": {},
   "outputs": [
    {
     "data": {
      "text/plain": [
       "[<matplotlib.lines.Line2D at 0x7f7868210460>]"
      ]
     },
     "execution_count": 18,
     "metadata": {},
     "output_type": "execute_result"
    },
    {
     "data": {
      "image/png": "[encoded data removed]",
      "text/plain": [
       "<Figure size 432x288 with 1 Axes>"
      ]
     },
     "metadata": {
      "needs_background": "light"
     },
     "output_type": "display_data"
    }
   ],
   "source": [
    "plt.plot(np.arange(horizon), np.cumsum(np.sum(x * R_true) - history))"
   ]
  },
  {
   "cell_type": "code",
   "execution_count": null,
   "id": "275def0e",
   "metadata": {},
   "outputs": [],
   "source": []
  }
 ],
 "metadata": {
  "kernelspec": {
   "display_name": "Python 3",
   "language": "python",
   "name": "python3"
  },
  "language_info": {
   "codemirror_mode": {
    "name": "ipython",
    "version": 3
   },
   "file_extension": ".py",
   "mimetype": "text/x-python",
   "name": "python",
   "nbconvert_exporter": "python",
   "pygments_lexer": "ipython3",
   "version": "3.8.8"
  }
 },
 "nbformat": 4,
 "nbformat_minor": 5
}
