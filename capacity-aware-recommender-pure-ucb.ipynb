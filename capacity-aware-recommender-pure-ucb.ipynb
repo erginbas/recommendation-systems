{
 "cells": [
  {
   "cell_type": "code",
   "execution_count": 1,
   "id": "9710a783",
   "metadata": {},
   "outputs": [],
   "source": [
    "import numpy as np\n",
    "from cvxopt import matrix, solvers, log, exp\n",
    "import matplotlib.pyplot as plt"
   ]
  },
  {
   "cell_type": "code",
   "execution_count": 2,
   "id": "2c4b9f61",
   "metadata": {},
   "outputs": [
    {
     "data": {
      "image/png": "[encoded data removed]",
      "text/plain": [
       "<Figure size 432x288 with 1 Axes>"
      ]
     },
     "metadata": {
      "needs_background": "light"
     },
     "output_type": "display_data"
    }
   ],
   "source": [
    "N = 50\n",
    "T = 10\n",
    "\n",
    "rank = 5\n",
    "\n",
    "U_true = np.random.randn(N, rank)\n",
    "V_true = np.random.randn(T, rank)\n",
    "\n",
    "R_true = U_true @ V_true.T + 0.05 * np.random.randn(N, T)\n",
    "\n",
    "plt.hist(R_true.flatten(), bins=np.int32(np.sqrt(N * T)))\n",
    "\n",
    "C = 5 * np.ones(T)"
   ]
  },
  {
   "cell_type": "code",
   "execution_count": 3,
   "id": "9284d7d5",
   "metadata": {},
   "outputs": [],
   "source": [
    "def solving_system(R, C, reg=1e-5, init_sol = None):\n",
    "    N, T = R.shape\n",
    "    A1 = np.zeros((N, N * T))\n",
    "    for i in range(N):\n",
    "        A1[i, i * T:(i + 1) * T] = np.ones((T))\n",
    "\n",
    "    A2 = np.zeros((T, N * T))\n",
    "    for i in range(T):\n",
    "        A2[i, i:N * T:T] = np.ones((N))\n",
    "      \n",
    "    A = np.concatenate((A1, A2, -1 * np.identity(N * T)))\n",
    "    \n",
    "    c = -1 * R.reshape((N * T, 1))\n",
    "\n",
    "    b = np.concatenate((np.ones(N), C, np.zeros(N * T)))\n",
    "      \n",
    "    P = reg * np.identity(N * T)\n",
    "    solvers.options['show_progress'] = False\n",
    "    sol = solvers.qp(matrix(P, tc='d'), matrix(c, tc='d'), matrix(A, tc='d'), matrix(b, tc='d'), initvals = init_sol)\n",
    "    x_sys = np.array(sol['x']).reshape((N, T))\n",
    "    q_sys = np.array(sol['z'])\n",
    "    return x_sys, q_sys, sol"
   ]
  },
  {
   "cell_type": "code",
   "execution_count": 4,
   "id": "cf486739",
   "metadata": {},
   "outputs": [],
   "source": [
    "x, q, _ = solving_system(R_true, C)"
   ]
  },
  {
   "cell_type": "code",
   "execution_count": 5,
   "id": "038335e5",
   "metadata": {},
   "outputs": [
    {
     "name": "stdout",
     "output_type": "stream",
     "text": [
      "5\n",
      "135.30259618480562\n"
     ]
    },
    {
     "data": {
      "image/png": "[encoded data removed]",
      "text/plain": [
       "<Figure size 432x288 with 1 Axes>"
      ]
     },
     "metadata": {
      "needs_background": "light"
     },
     "output_type": "display_data"
    }
   ],
   "source": [
    "x = np.int32(x > 0.5)\n",
    "plt.imshow(x)\n",
    "print(np.max(np.sum(x, axis=0)))\n",
    "print(np.sum(x * R_true))"
   ]
  },
  {
   "cell_type": "code",
   "execution_count": 6,
   "id": "e9abe7d3",
   "metadata": {},
   "outputs": [
    {
     "name": "stdout",
     "output_type": "stream",
     "text": [
      "8.0\n",
      "146.72521180851152\n"
     ]
    },
    {
     "data": {
      "image/png": "[encoded data removed]",
      "text/plain": [
       "<Figure size 432x288 with 1 Axes>"
      ]
     },
     "metadata": {
      "needs_background": "light"
     },
     "output_type": "display_data"
    }
   ],
   "source": [
    "max_ind = np.argmax(R_true, axis=1)\n",
    "x_without_C = np.zeros((N, T))\n",
    "x_without_C[np.arange(N), max_ind] = 1\n",
    "plt.imshow(x_without_C)\n",
    "print(np.max(np.sum(x_without_C, axis=0)))\n",
    "print(np.sum(x_without_C * R_true))"
   ]
  },
  {
   "cell_type": "code",
   "execution_count": 17,
   "id": "40a78a4c",
   "metadata": {},
   "outputs": [],
   "source": [
    "alpha = 2\n",
    "\n",
    "data_sum = np.zeros((N, T))\n",
    "data_counts = np.zeros((N, T))\n",
    "    \n",
    "def update_ucb(observations):\n",
    "\n",
    "    for obs in observations:\n",
    "        data_sum[obs[0], obs[1]] += obs[2]\n",
    "        data_counts[obs[0], obs[1]] += 1\n",
    "        \n",
    "#     print(data_counts)\n",
    "            \n",
    "    rand = np.random.randn(N, T)\n",
    "    data_sum[data_counts == 0] = 10 + 0.01 * rand[data_counts == 0]\n",
    "    data_counts[data_counts == 0] = 1\n",
    "    \n",
    "    R_UCB = data_sum / data_counts\n",
    "    std = alpha / np.sqrt(data_counts)\n",
    "        \n",
    "    return R_UCB + std"
   ]
  },
  {
   "cell_type": "code",
   "execution_count": 18,
   "id": "9d04fd61",
   "metadata": {},
   "outputs": [],
   "source": [
    "is_mask_feasible = False\n",
    "while not is_mask_feasible:\n",
    "    initial_mask = np.zeros((N, T))\n",
    "    for i in range(N):\n",
    "        j = np.random.choice(T)\n",
    "        initial_mask[i, j] = 1\n",
    "\n",
    "    if np.min(np.sum(initial_mask, axis=0)) > 0:\n",
    "        is_mask_feasible = True\n",
    "        \n",
    "observations = []\n",
    "for i in range(N):\n",
    "    for j in range(T):\n",
    "        if initial_mask[i, j] == 1:\n",
    "            observations.append((i, j, R_true[i, j] + np.random.randn()))"
   ]
  },
  {
   "cell_type": "code",
   "execution_count": 19,
   "id": "5124c485",
   "metadata": {},
   "outputs": [
    {
     "name": "stdout",
     "output_type": "stream",
     "text": [
      "Iter  0\n",
      "5\n",
      "[5 5 5 5 5 5 5 5 5 5]\n",
      "4.964271556817239\n",
      "Iter  100\n",
      "5\n",
      "[5 5 5 5 5 5 5 5 5 5]\n",
      "119.70141617625895\n",
      "Iter  200\n",
      "5\n",
      "[5 5 5 5 3 5 5 5 5 5]\n",
      "133.66609665367605\n",
      "Iter  300\n",
      "5\n",
      "[5 5 5 5 3 5 5 5 5 5]\n",
      "134.64503832121085\n",
      "Iter  400\n",
      "5\n",
      "[5 5 5 5 3 5 5 5 5 5]\n",
      "134.6840462221283\n"
     ]
    }
   ],
   "source": [
    "horizon = 500\n",
    "\n",
    "history = np.zeros(horizon)\n",
    "prev_sol = None\n",
    "\n",
    "for t in range(horizon):\n",
    "    \n",
    "    R_UCB = update_ucb(observations)\n",
    "    observations = []\n",
    "\n",
    "#     print(np.linalg.norm(R_UCB))\n",
    "\n",
    "    x_UCB, _, prev_sol = solving_system(R_UCB, C)\n",
    "            \n",
    "    x_UCB = np.int32(x_UCB > 0.5)\n",
    "\n",
    "#     plt.imshow(x_UCB)\n",
    "#     plt.show()\n",
    "    if t % 100 == 0:\n",
    "        print('Iter ', t)\n",
    "        print(np.max(np.sum(x_UCB, axis=0)))\n",
    "        print(np.sum(x_UCB, axis=0))\n",
    "        print(np.sum(x_UCB * R_true))\n",
    "    \n",
    "    history[t] = np.sum(x_UCB * R_true)\n",
    "\n",
    "    for i in range(N):\n",
    "        for j in range(T):\n",
    "            if x_UCB[i, j] == 1:\n",
    "                observations.append((i, j, R_true[i, j] + np.random.randn()))"
   ]
  },
  {
   "cell_type": "code",
   "execution_count": 20,
   "id": "d4fbb671",
   "metadata": {},
   "outputs": [
    {
     "data": {
      "text/plain": [
       "<matplotlib.collections.LineCollection at 0x7f7883c0c490>"
      ]
     },
     "execution_count": 20,
     "metadata": {},
     "output_type": "execute_result"
    },
    {
     "data": {
      "image/png": "[encoded data removed]",
      "text/plain": [
       "<Figure size 432x288 with 1 Axes>"
      ]
     },
     "metadata": {
      "needs_background": "light"
     },
     "output_type": "display_data"
    }
   ],
   "source": [
    "plt.plot(np.arange(horizon), history)\n",
    "plt.hlines(np.sum(x * R_true), 0, horizon, linestyles='dashed')"
   ]
  },
  {
   "cell_type": "code",
   "execution_count": 21,
   "id": "68db5ba1",
   "metadata": {},
   "outputs": [
    {
     "data": {
      "text/plain": [
       "[<matplotlib.lines.Line2D at 0x7f788752b6d0>]"
      ]
     },
     "execution_count": 21,
     "metadata": {},
     "output_type": "execute_result"
    },
    {
     "data": {
      "image/png": "[encoded data removed]",
      "text/plain": [
       "<Figure size 432x288 with 1 Axes>"
      ]
     },
     "metadata": {
      "needs_background": "light"
     },
     "output_type": "display_data"
    }
   ],
   "source": [
    "plt.plot(np.arange(horizon), np.cumsum(np.sum(x * R_true) - history))"
   ]
  },
  {
   "cell_type": "code",
   "execution_count": null,
   "id": "d2dccd86",
   "metadata": {},
   "outputs": [],
   "source": []
  }
 ],
 "metadata": {
  "kernelspec": {
   "display_name": "Python 3",
   "language": "python",
   "name": "python3"
  },
  "language_info": {
   "codemirror_mode": {
    "name": "ipython",
    "version": 3
   },
   "file_extension": ".py",
   "mimetype": "text/x-python",
   "name": "python",
   "nbconvert_exporter": "python",
   "pygments_lexer": "ipython3",
   "version": "3.8.8"
  }
 },
 "nbformat": 4,
 "nbformat_minor": 5
}
